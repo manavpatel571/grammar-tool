{
 "cells": [
  {
   "cell_type": "markdown",
   "id": "c37e9904",
   "metadata": {},
   "source": [
    "###  Install and Import Dependencies"
   ]
  },
  {
   "cell_type": "code",
   "execution_count": 4,
   "id": "dae63fb0",
   "metadata": {},
   "outputs": [],
   "source": [
    "#!pip install spello"
   ]
  },
  {
   "cell_type": "code",
   "execution_count": 5,
   "id": "b54883ba",
   "metadata": {},
   "outputs": [],
   "source": [
    "import pandas as pd\n",
    "from spello.model import SpellCorrectionModel\n",
    "import re"
   ]
  },
  {
   "cell_type": "markdown",
   "id": "94cc63aa",
   "metadata": {},
   "source": [
    "### Load Files"
   ]
  },
  {
   "cell_type": "code",
   "execution_count": 8,
   "id": "e0e283d5",
   "metadata": {},
   "outputs": [],
   "source": [
    "with open(\"big.txt\", \"r\") as f:\n",
    "    big = f.readlines()\n",
    "big  = [i.strip() for i in big]\n"
   ]
  },
  {
   "cell_type": "code",
   "execution_count": 10,
   "id": "0b8a383d",
   "metadata": {},
   "outputs": [],
   "source": [
    "#Remove \\t - tab\n",
    "big_t = [re.sub('\\\\t', ' ', text) for text in big]\n",
    "\n",
    "#Remove \\\\\n",
    "big_ = [re.sub(\"\\\\'\", \"\", text) for text in big_t]\n",
    "\n",
    "#Remove\n",
    "big_r = [text for text in big_ if text != '']\n",
    "\n",
    "#Remove Special characters\n",
    "big_star = [re.sub(r'[^a-zA-Z]+', ' ', text) for text in big_r]\n",
    "\n",
    "#Remove leading and trailing spaces\n",
    "big_stripped = [text.strip() for text in big_star]\n"
   ]
  },
  {
   "cell_type": "markdown",
   "id": "88943648",
   "metadata": {},
   "source": [
    "### Train the Model"
   ]
  },
  {
   "cell_type": "code",
   "execution_count": 11,
   "id": "338e8475",
   "metadata": {},
   "outputs": [],
   "source": [
    "sp = SpellCorrectionModel(language='en')"
   ]
  },
  {
   "cell_type": "code",
   "execution_count": 12,
   "id": "8b58d58c",
   "metadata": {},
   "outputs": [
    {
     "name": "stdout",
     "output_type": "stream",
     "text": [
      "Spello training started..\n",
      "Context model training started ...\n",
      "Symspell training started ...\n",
      "Phoneme training started ...\n",
      "Spello training completed successfully ...\n"
     ]
    }
   ],
   "source": [
    "sp.train(big_stripped)"
   ]
  },
  {
   "cell_type": "markdown",
   "id": "f15bfaf3",
   "metadata": {},
   "source": [
    "### now let's chek our model :)"
   ]
  },
  {
   "cell_type": "code",
   "execution_count": 15,
   "id": "1567a133",
   "metadata": {},
   "outputs": [
    {
     "data": {
      "text/plain": [
       "{'original_text': 'I want to becum data scientst',\n",
       " 'spell_corrected_text': 'I want to become data scientist',\n",
       " 'correction_dict': {'becum': 'become', 'scientst': 'scientist'}}"
      ]
     },
     "execution_count": 15,
     "metadata": {},
     "output_type": "execute_result"
    }
   ],
   "source": [
    "sentence = 'I want to becum data scientst'\n",
    "sp.spell_correct(sentence)"
   ]
  },
  {
   "cell_type": "code",
   "execution_count": 26,
   "id": "67948605",
   "metadata": {},
   "outputs": [
    {
     "data": {
      "text/plain": [
       "{'original_text': 'I always try to learn neew tings',\n",
       " 'spell_corrected_text': 'I always try to learn new things',\n",
       " 'correction_dict': {'neew': 'new', 'tings': 'things'}}"
      ]
     },
     "execution_count": 26,
     "metadata": {},
     "output_type": "execute_result"
    }
   ],
   "source": [
    "sentence = 'I always try to learn neew tings'\n",
    "sp.spell_correct(sentence)"
   ]
  },
  {
   "cell_type": "code",
   "execution_count": 34,
   "id": "dac5b5b9",
   "metadata": {},
   "outputs": [
    {
     "data": {
      "text/plain": [
       "{'original_text': 'i agree that its not perfuct yet but i am sure if i get more large amunt of data aed time then i can make vely acurat model for sure',\n",
       " 'spell_corrected_text': 'i agree that its not perfect yet but i am sure if i get more large amount of data and time then i can make very accurate model for sure',\n",
       " 'correction_dict': {'perfuct': 'perfect',\n",
       "  'amunt': 'amount',\n",
       "  'aed': 'and',\n",
       "  'vely': 'very',\n",
       "  'acurat': 'accurate'}}"
      ]
     },
     "execution_count": 34,
     "metadata": {},
     "output_type": "execute_result"
    }
   ],
   "source": [
    "sentence = 'i agree that its not perfuct yet but i am sure if i get more large amunt of data aed time then i can make vely acurat model for sure'\n",
    "sp.spell_correct(sentence)"
   ]
  },
  {
   "cell_type": "code",
   "execution_count": null,
   "id": "9711fc11",
   "metadata": {},
   "outputs": [],
   "source": []
  }
 ],
 "metadata": {
  "kernelspec": {
   "display_name": "Python 3 (ipykernel)",
   "language": "python",
   "name": "python3"
  },
  "language_info": {
   "codemirror_mode": {
    "name": "ipython",
    "version": 3
   },
   "file_extension": ".py",
   "mimetype": "text/x-python",
   "name": "python",
   "nbconvert_exporter": "python",
   "pygments_lexer": "ipython3",
   "version": "3.10.9"
  },
  "varInspector": {
   "cols": {
    "lenName": 16,
    "lenType": 16,
    "lenVar": 40
   },
   "kernels_config": {
    "python": {
     "delete_cmd_postfix": "",
     "delete_cmd_prefix": "del ",
     "library": "var_list.py",
     "varRefreshCmd": "print(var_dic_list())"
    },
    "r": {
     "delete_cmd_postfix": ") ",
     "delete_cmd_prefix": "rm(",
     "library": "var_list.r",
     "varRefreshCmd": "cat(var_dic_list()) "
    }
   },
   "types_to_exclude": [
    "module",
    "function",
    "builtin_function_or_method",
    "instance",
    "_Feature"
   ],
   "window_display": false
  }
 },
 "nbformat": 4,
 "nbformat_minor": 5
}
